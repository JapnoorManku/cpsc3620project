{
  "nbformat": 4,
  "nbformat_minor": 0,
  "metadata": {
    "colab": {
      "provenance": [],
      "include_colab_link": true
    },
    "kernelspec": {
      "name": "python3",
      "display_name": "Python 3"
    },
    "language_info": {
      "name": "python"
    }
  },
  "cells": [
    {
      "cell_type": "markdown",
      "metadata": {
        "id": "view-in-github",
        "colab_type": "text"
      },
      "source": [
        "<a href=\"https://colab.research.google.com/github/JapnoorManku/cpsc3620project/blob/main/cpsc3620proj.ipynb\" target=\"_parent\"><img src=\"https://colab.research.google.com/assets/colab-badge.svg\" alt=\"Open In Colab\"/></a>"
      ]
    },
    {
      "cell_type": "code",
      "execution_count": null,
      "metadata": {
        "id": "wzgkauqc8hAM",
        "colab": {
          "base_uri": "https://localhost:8080/"
        },
        "outputId": "9df7a432-bb6f-42fb-e82e-770a64294820"
      },
      "outputs": [
        {
          "output_type": "stream",
          "name": "stdout",
          "text": [
            "(a) Count of partitions: 2\n",
            "(b) Can partition at same indices: True\n",
            "(c) Count of same index partitions: 1\n"
          ]
        }
      ],
      "source": [
        "from functools import lru_cache\n",
        "\n",
        "# Simulated IsWord function using a dictionary lookup\n",
        "word_dict = {\"ARTIST\": True, \"OIL\": True, \"ART\": True, \"IS\": True, \"TOIL\": True,\n",
        "             \"BOT\": True, \"HEART\": True, \"HAND\": True, \"SAT\": True, \"URNS\": True, \"PIN\": True,\n",
        "             \"PIN\": True, \"START\": True, \"RAPS\": True, \"AND\": True, \"RAGS\": True, \"LAP\": True}\n",
        "\n",
        "def IsWord(word: str) -> bool:\n",
        "    return word in word_dict\n",
        "\n",
        "# (a) Compute the number of partitions of A into words\n",
        "def count_partitions(A: str) -> int:\n",
        "    n = len(A)\n",
        "    dp = [0] * (n + 1)\n",
        "    dp[0] = 1  # Base case: one way to split an empty string\n",
        "\n",
        "    for i in range(1, n + 1):\n",
        "        for j in range(i):\n",
        "            if IsWord(A[j:i]):\n",
        "                dp[i] += dp[j]\n",
        "\n",
        "    return dp[n]\n",
        "\n",
        "# (b) Decide whether A and B can be partitioned into words at the same indices\n",
        "def can_partition_same_indices(A: str, B: str) -> bool:\n",
        "    n = len(A)\n",
        "    dp = [False] * (n + 1)\n",
        "    dp[0] = True  # Base case\n",
        "\n",
        "    for i in range(1, n + 1):\n",
        "        for j in range(i):\n",
        "            if IsWord(A[j:i]) and IsWord(B[j:i]) and dp[j]:\n",
        "                dp[i] = True\n",
        "                break\n",
        "\n",
        "    return dp[n]\n",
        "\n",
        "# (c) Compute the number of different ways that A and B can be partitioned into words at the same indices\n",
        "def count_partition_same_indices(A: str, B: str) -> int:\n",
        "    n = len(A)\n",
        "    dp = [0] * (n + 1)\n",
        "    dp[0] = 1  # Base case\n",
        "\n",
        "    for i in range(1, n + 1):\n",
        "        for j in range(i):\n",
        "            if IsWord(A[j:i]) and IsWord(B[j:i]):\n",
        "                dp[i] += dp[j]\n",
        "\n",
        "    return dp[n]\n",
        "\n",
        "# Example tests\n",
        "A = \"ARTISTOIL\"\n",
        "B1 = \"BOTHEARTHANDSATURNSPIN\"\n",
        "B2 = \"PINSTARTRAPSANDRAGSLAP\"\n",
        "print(\"(a) Count of partitions:\", count_partitions(A))\n",
        "print(\"(b) Can partition at same indices:\", can_partition_same_indices(B1, B2))\n",
        "print(\"(c) Count of same index partitions:\", count_partition_same_indices(B1, B2))"
      ]
    }
  ]
}