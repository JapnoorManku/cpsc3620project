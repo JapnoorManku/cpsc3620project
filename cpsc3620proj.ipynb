{
  "nbformat": 4,
  "nbformat_minor": 0,
  "metadata": {
    "colab": {
      "provenance": [],
      "include_colab_link": true
    },
    "kernelspec": {
      "name": "python3",
      "display_name": "Python 3"
    },
    "language_info": {
      "name": "python"
    }
  },
  "cells": [
    {
      "cell_type": "markdown",
      "metadata": {
        "id": "view-in-github",
        "colab_type": "text"
      },
      "source": [
        "<a href=\"https://colab.research.google.com/github/JapnoorManku/cpsc3620project/blob/main/cpsc3620proj.ipynb\" target=\"_parent\"><img src=\"https://colab.research.google.com/assets/colab-badge.svg\" alt=\"Open In Colab\"/></a>"
      ]
    },
    {
      "cell_type": "code",
      "execution_count": 1,
      "metadata": {
        "id": "wzgkauqc8hAM",
        "colab": {
          "base_uri": "https://localhost:8080/"
        },
        "outputId": "8622eb06-00e9-457f-ee66-5dc7e2d129e3"
      },
      "outputs": [
        {
          "output_type": "stream",
          "name": "stdout",
          "text": [
            "(a) Count of partitions: 2\n",
            "(b) Can partition at same indices: True\n",
            "(c) Count of same index partitions: 1\n"
          ]
        }
      ],
      "source": [
        "from functools import lru_cache\n",
        "\n",
        "# Simulated IsWord function using a dictionary lookup\n",
        "word_dict = {\"ARTIST\": True, \"OIL\": True, \"ART\": True, \"IS\": True, \"TOIL\": True,\n",
        "             \"BOT\": True, \"HEART\": True, \"HAND\": True, \"SAT\": True, \"URNS\": True, \"PIN\": True,\n",
        "             \"PIN\": True, \"START\": True, \"RAPS\": True, \"AND\": True, \"RAGS\": True, \"LAP\": True}\n",
        "\n",
        "def IsWord(word: str) -> bool:\n",
        "    return word in word_dict\n",
        "\n",
        "# (a) Compute the number of partitions of A into words\n",
        "def count_partitions(A: str) -> int:\n",
        "    n = len(A)\n",
        "    dp = [0] * (n + 1)\n",
        "    dp[0] = 1  # Base case: one way to split an empty string\n",
        "\n",
        "    for i in range(1, n + 1):\n",
        "        for j in range(i):\n",
        "            if IsWord(A[j:i]):\n",
        "                dp[i] += dp[j]\n",
        "\n",
        "    return dp[n]\n",
        "\n",
        "# (b) Decide whether A and B can be partitioned into words at the same indices\n",
        "def can_partition_same_indices(A: str, B: str) -> bool:\n",
        "    n = len(A)\n",
        "    dp = [False] * (n + 1)\n",
        "    dp[0] = True  # Base case\n",
        "\n",
        "    for i in range(1, n + 1):\n",
        "        for j in range(i):\n",
        "            if IsWord(A[j:i]) and IsWord(B[j:i]) and dp[j]:\n",
        "                dp[i] = True\n",
        "                break\n",
        "\n",
        "    return dp[n]\n",
        "\n",
        "# (c) Compute the number of different ways that A and B can be partitioned into words at the same indices\n",
        "def count_partition_same_indices(A: str, B: str) -> int:\n",
        "    n = len(A)\n",
        "    dp = [0] * (n + 1)\n",
        "    dp[0] = 1  # Base case\n",
        "\n",
        "    for i in range(1, n + 1):\n",
        "        for j in range(i):\n",
        "            if IsWord(A[j:i]) and IsWord(B[j:i]):\n",
        "                dp[i] += dp[j]\n",
        "\n",
        "    return dp[n]\n",
        "\n",
        "# Example tests\n",
        "A = \"ARTISTOIL\"\n",
        "B1 = \"BOTHEARTHANDSATURNSPIN\"\n",
        "B2 = \"PINSTARTRAPSANDRAGSLAP\"\n",
        "print(\"(a) Count of partitions:\", count_partitions(A))\n",
        "print(\"(b) Can partition at same indices:\", can_partition_same_indices(B1, B2))\n",
        "print(\"(c) Count of same index partitions:\", count_partition_same_indices(B1, B2))"
      ]
    },
    {
      "cell_type": "code",
      "source": [
        "import random\n",
        "import string\n",
        "import time\n",
        "\n",
        "# Simulated dictionary for testing purposes.\n",
        "DICTIONARY = {\"ART\", \"ISTOIL\", \"ARTIST\", \"OIL\", \"IS\", \"TOIL\",\n",
        "              \"BOT\", \"HEART\", \"HAND\", \"SAT\", \"URNS\", \"PIN\",\n",
        "              \"START\", \"RAPS\", \"AND\", \"RAGS\", \"LAP\", \"EARTH\", \"DRAG\", \"SLAP\"}\n",
        "\n",
        "def IsWord(s: str) -> bool:\n",
        "    \"\"\"Checks if a string is a valid word from the dictionary.\"\"\"\n",
        "    return s in DICTIONARY\n",
        "\n",
        "# Variant (a): Count partitions for one string.\n",
        "def count_partitions(A: str) -> int:\n",
        "    n = len(A)\n",
        "    dp = [0] * (n + 1)\n",
        "    dp[0] = 1\n",
        "    for i in range(1, n + 1):\n",
        "        for j in range(1, i + 1):\n",
        "            if IsWord(A[j-1:i]):\n",
        "                dp[i] += dp[j-1]\n",
        "    return dp[n]\n",
        "\n",
        "# Variant (b): Decide if two strings can be partitioned at the same indices.\n",
        "def can_partition_same(A: str, B: str) -> bool:\n",
        "    if len(A) != len(B):\n",
        "        return False\n",
        "    n = len(A)\n",
        "    dp = [False] * (n + 1)\n",
        "    dp[0] = True\n",
        "    for i in range(1, n + 1):\n",
        "        for j in range(1, i + 1):\n",
        "            if dp[j-1] and IsWord(A[j-1:i]) and IsWord(B[j-1:i]):\n",
        "                dp[i] = True\n",
        "                break\n",
        "    return dp[n]\n",
        "\n",
        "# Variant (c): Count common partitions for two strings.\n",
        "def count_common_partitions(A: str, B: str) -> int:\n",
        "    if len(A) != len(B):\n",
        "        return 0\n",
        "    n = len(A)\n",
        "    dp = [0] * (n + 1)\n",
        "    dp[0] = 1\n",
        "    for i in range(1, n + 1):\n",
        "        for j in range(1, i + 1):\n",
        "            if IsWord(A[j-1:i]) and IsWord(B[j-1:i]):\n",
        "                dp[i] += dp[j-1]\n",
        "    return dp[n]"
      ],
      "metadata": {
        "id": "ZwnDulOFb_SJ"
      },
      "execution_count": 2,
      "outputs": []
    },
    {
      "cell_type": "code",
      "source": [
        "import time\n",
        "import matplotlib.pyplot as plt\n",
        "import random\n",
        "import string\n",
        "from text_segmentation import count_partitions\n",
        "\n",
        "def generate_random_string(n: int) -> str:\n",
        "    \"\"\"Generates a random uppercase string of length n.\"\"\"\n",
        "    return ''.join(random.choices(string.ascii_uppercase, k=n))\n",
        "\n",
        "# Test different string lengths\n",
        "lengths = [100, 200, 400, 800, 1600]\n",
        "execution_times = []\n",
        "\n",
        "for n in lengths:\n",
        "    test_string = generate_random_string(n)\n",
        "    start_time = time.time()\n",
        "    _ = count_partitions(test_string)\n",
        "    elapsed_time = time.time() - start_time\n",
        "    execution_times.append(elapsed_time)\n",
        "    print(f\"String length {n} took {elapsed_time:.4f} seconds.\")\n",
        "\n",
        "# Plot results\n",
        "plt.figure(figsize=(8, 5))\n",
        "plt.plot(lengths, execution_times, marker='o', linestyle='-', color='b', label=\"Execution Time\")\n",
        "plt.xlabel(\"String Length (n)\")\n",
        "plt.ylabel(\"Execution Time (seconds)\")\n",
        "plt.title(\"Time Complexity of count_partitions\")\n",
        "plt.legend()\n",
        "plt.grid(True)\n",
        "plt.show()"
      ],
      "metadata": {
        "id": "VO_1rVMQcHod",
        "outputId": "7804fc85-439a-4fca-853b-6912774d7513",
        "colab": {
          "base_uri": "https://localhost:8080/",
          "height": 384
        }
      },
      "execution_count": 5,
      "outputs": [
        {
          "output_type": "error",
          "ename": "ModuleNotFoundError",
          "evalue": "No module named 'text_segmentation'",
          "traceback": [
            "\u001b[0;31m---------------------------------------------------------------------------\u001b[0m",
            "\u001b[0;31mModuleNotFoundError\u001b[0m                       Traceback (most recent call last)",
            "\u001b[0;32m<ipython-input-5-b335cbebbedc>\u001b[0m in \u001b[0;36m<cell line: 0>\u001b[0;34m()\u001b[0m\n\u001b[1;32m      5\u001b[0m \u001b[0;32mimport\u001b[0m \u001b[0msys\u001b[0m\u001b[0;34m\u001b[0m\u001b[0;34m\u001b[0m\u001b[0m\n\u001b[1;32m      6\u001b[0m \u001b[0msys\u001b[0m\u001b[0;34m.\u001b[0m\u001b[0mpath\u001b[0m\u001b[0;34m.\u001b[0m\u001b[0mappend\u001b[0m\u001b[0;34m(\u001b[0m\u001b[0;34m\"src\"\u001b[0m\u001b[0;34m)\u001b[0m  \u001b[0;31m# Add the correct path\u001b[0m\u001b[0;34m\u001b[0m\u001b[0;34m\u001b[0m\u001b[0m\n\u001b[0;32m----> 7\u001b[0;31m \u001b[0;32mfrom\u001b[0m \u001b[0mtext_segmentation\u001b[0m \u001b[0;32mimport\u001b[0m \u001b[0mcount_partitions\u001b[0m\u001b[0;34m\u001b[0m\u001b[0;34m\u001b[0m\u001b[0m\n\u001b[0m\u001b[1;32m      8\u001b[0m \u001b[0;34m\u001b[0m\u001b[0m\n\u001b[1;32m      9\u001b[0m \u001b[0;32mdef\u001b[0m \u001b[0mgenerate_random_string\u001b[0m\u001b[0;34m(\u001b[0m\u001b[0mn\u001b[0m\u001b[0;34m:\u001b[0m \u001b[0mint\u001b[0m\u001b[0;34m)\u001b[0m \u001b[0;34m->\u001b[0m \u001b[0mstr\u001b[0m\u001b[0;34m:\u001b[0m\u001b[0;34m\u001b[0m\u001b[0;34m\u001b[0m\u001b[0m\n",
            "\u001b[0;31mModuleNotFoundError\u001b[0m: No module named 'text_segmentation'",
            "",
            "\u001b[0;31m---------------------------------------------------------------------------\u001b[0;32m\nNOTE: If your import is failing due to a missing package, you can\nmanually install dependencies using either !pip or !apt.\n\nTo view examples of installing some common dependencies, click the\n\"Open Examples\" button below.\n\u001b[0;31m---------------------------------------------------------------------------\u001b[0m\n"
          ],
          "errorDetails": {
            "actions": [
              {
                "action": "open_url",
                "actionText": "Open Examples",
                "url": "/notebooks/snippets/importing_libraries.ipynb"
              }
            ]
          }
        }
      ]
    },
    {
      "cell_type": "code",
      "source": [
        "import time\n",
        "import random\n",
        "import string\n",
        "from text_segmentation import count_partitions, can_partition_same, count_common_partitions\n",
        "\n",
        "def generate_large_random_string(n: int) -> str:\n",
        "    \"\"\"Generates a large uppercase string of length n.\"\"\"\n",
        "    return ''.join(random.choices(string.ascii_uppercase, k=n))\n",
        "\n",
        "# Stress test with large inputs\n",
        "n = 5000\n",
        "A_large = generate_large_random_string(n)\n",
        "B_large = generate_large_random_string(n)\n",
        "\n",
        "print(f\"Running stress test for n = {n}...\")\n",
        "\n",
        "# Test Variant (a)\n",
        "start = time.time()\n",
        "_ = count_partitions(A_large)\n",
        "print(f\"Variant (a) completed in {time.time() - start:.4f} seconds.\")\n",
        "\n",
        "# Test Variant (b)\n",
        "start = time.time()\n",
        "_ = can_partition_same(A_large, B_large)\n",
        "print(f\"Variant (b) completed in {time.time() - start:.4f} seconds.\")\n",
        "\n",
        "# Test Variant (c)\n",
        "start = time.time()\n",
        "_ = count_common_partitions(A_large, B_large)\n",
        "print(f\"Variant (c) completed in {time.time() - start:.4f} seconds.\")\n",
        "\n",
        "print(\"Stress test completed.\")"
      ],
      "metadata": {
        "id": "uPs56T8jcRIz",
        "outputId": "c275cf99-f82b-41d2-c355-0e4918621f0d",
        "colab": {
          "base_uri": "https://localhost:8080/",
          "height": 384
        }
      },
      "execution_count": 4,
      "outputs": [
        {
          "output_type": "error",
          "ename": "ModuleNotFoundError",
          "evalue": "No module named 'text_segmentation'",
          "traceback": [
            "\u001b[0;31m---------------------------------------------------------------------------\u001b[0m",
            "\u001b[0;31mModuleNotFoundError\u001b[0m                       Traceback (most recent call last)",
            "\u001b[0;32m<ipython-input-4-4df3b08da802>\u001b[0m in \u001b[0;36m<cell line: 0>\u001b[0;34m()\u001b[0m\n\u001b[1;32m      2\u001b[0m \u001b[0;32mimport\u001b[0m \u001b[0mrandom\u001b[0m\u001b[0;34m\u001b[0m\u001b[0;34m\u001b[0m\u001b[0m\n\u001b[1;32m      3\u001b[0m \u001b[0;32mimport\u001b[0m \u001b[0mstring\u001b[0m\u001b[0;34m\u001b[0m\u001b[0;34m\u001b[0m\u001b[0m\n\u001b[0;32m----> 4\u001b[0;31m \u001b[0;32mfrom\u001b[0m \u001b[0mtext_segmentation\u001b[0m \u001b[0;32mimport\u001b[0m \u001b[0mcount_partitions\u001b[0m\u001b[0;34m,\u001b[0m \u001b[0mcan_partition_same\u001b[0m\u001b[0;34m,\u001b[0m \u001b[0mcount_common_partitions\u001b[0m\u001b[0;34m\u001b[0m\u001b[0;34m\u001b[0m\u001b[0m\n\u001b[0m\u001b[1;32m      5\u001b[0m \u001b[0;34m\u001b[0m\u001b[0m\n\u001b[1;32m      6\u001b[0m \u001b[0;32mdef\u001b[0m \u001b[0mgenerate_large_random_string\u001b[0m\u001b[0;34m(\u001b[0m\u001b[0mn\u001b[0m\u001b[0;34m:\u001b[0m \u001b[0mint\u001b[0m\u001b[0;34m)\u001b[0m \u001b[0;34m->\u001b[0m \u001b[0mstr\u001b[0m\u001b[0;34m:\u001b[0m\u001b[0;34m\u001b[0m\u001b[0;34m\u001b[0m\u001b[0m\n",
            "\u001b[0;31mModuleNotFoundError\u001b[0m: No module named 'text_segmentation'",
            "",
            "\u001b[0;31m---------------------------------------------------------------------------\u001b[0;32m\nNOTE: If your import is failing due to a missing package, you can\nmanually install dependencies using either !pip or !apt.\n\nTo view examples of installing some common dependencies, click the\n\"Open Examples\" button below.\n\u001b[0;31m---------------------------------------------------------------------------\u001b[0m\n"
          ],
          "errorDetails": {
            "actions": [
              {
                "action": "open_url",
                "actionText": "Open Examples",
                "url": "/notebooks/snippets/importing_libraries.ipynb"
              }
            ]
          }
        }
      ]
    }
  ]
}
