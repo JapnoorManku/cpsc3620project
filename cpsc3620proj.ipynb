{
  "nbformat": 4,
  "nbformat_minor": 0,
  "metadata": {
    "colab": {
      "provenance": [],
      "include_colab_link": true
    },
    "kernelspec": {
      "name": "python3",
      "display_name": "Python 3"
    },
    "language_info": {
      "name": "python"
    }
  },
  "cells": [
    {
      "cell_type": "markdown",
      "metadata": {
        "id": "view-in-github",
        "colab_type": "text"
      },
      "source": [
        "<a href=\"https://colab.research.google.com/github/JapnoorManku/cpsc3620project/blob/main/cpsc3620proj.ipynb\" target=\"_parent\"><img src=\"https://colab.research.google.com/assets/colab-badge.svg\" alt=\"Open In Colab\"/></a>"
      ]
    },
    {
      "cell_type": "code",
      "execution_count": 9,
      "metadata": {
        "id": "wzgkauqc8hAM",
        "colab": {
          "base_uri": "https://localhost:8080/"
        },
        "outputId": "076d892d-471c-471c-d0cf-064196dcfdde"
      },
      "outputs": [
        {
          "output_type": "stream",
          "name": "stdout",
          "text": [
            "(a) Count of partitions: 2\n",
            "(b) Can partition at same indices: True\n",
            "(c) Count of same index partitions: 1\n"
          ]
        }
      ],
      "source": [
        "from functools import lru_cache\n",
        "\n",
        "# Simulated IsWord function using a dictionary lookup\n",
        "word_dict = {\"ARTIST\": True, \"OIL\": True, \"ART\": True, \"IS\": True, \"TOIL\": True,\n",
        "             \"BOT\": True, \"HEART\": True, \"HAND\": True, \"SAT\": True, \"URNS\": True, \"PIN\": True,\n",
        "             \"PIN\": True, \"START\": True, \"RAPS\": True, \"AND\": True, \"RAGS\": True, \"LAP\": True}\n",
        "\n",
        "def IsWord(word: str) -> bool:\n",
        "    return word in word_dict\n",
        "\n",
        "# (a) Compute the number of partitions of A into words\n",
        "def count_partitions(A: str) -> int:\n",
        "    n = len(A)\n",
        "    dp = [0] * (n + 1)\n",
        "    dp[0] = 1  # Base case: one way to split an empty string\n",
        "\n",
        "    for i in range(1, n + 1):\n",
        "        for j in range(i):\n",
        "            if IsWord(A[j:i]):\n",
        "                dp[i] += dp[j]\n",
        "\n",
        "    return dp[n]\n",
        "\n",
        "# (b) Decide whether A and B can be partitioned into words at the same indices\n",
        "def can_partition_same_indices(A: str, B: str) -> bool:\n",
        "    n = len(A)\n",
        "    dp = [False] * (n + 1)\n",
        "    dp[0] = True  # Base case\n",
        "\n",
        "    for i in range(1, n + 1):\n",
        "        for j in range(i):\n",
        "            if IsWord(A[j:i]) and IsWord(B[j:i]) and dp[j]:\n",
        "                dp[i] = True\n",
        "                break\n",
        "\n",
        "    return dp[n]\n",
        "\n",
        "# (c) Compute the number of different ways that A and B can be partitioned into words at the same indices\n",
        "def count_partition_same_indices(A: str, B: str) -> int:\n",
        "    n = len(A)\n",
        "    dp = [0] * (n + 1)\n",
        "    dp[0] = 1  # Base case\n",
        "\n",
        "    for i in range(1, n + 1):\n",
        "        for j in range(i):\n",
        "            if IsWord(A[j:i]) and IsWord(B[j:i]):\n",
        "                dp[i] += dp[j]\n",
        "\n",
        "    return dp[n]\n",
        "\n",
        "# Example tests\n",
        "A = \"ARTISTOIL\"\n",
        "B1 = \"BOTHEARTHANDSATURNSPIN\"\n",
        "B2 = \"PINSTARTRAPSANDRAGSLAP\"\n",
        "print(\"(a) Count of partitions:\", count_partitions(A))\n",
        "print(\"(b) Can partition at same indices:\", can_partition_same_indices(B1, B2))\n",
        "print(\"(c) Count of same index partitions:\", count_partition_same_indices(B1, B2))"
      ]
    },
    {
      "cell_type": "code",
      "source": [
        "import time\n",
        "import matplotlib.pyplot as plt\n",
        "import random\n",
        "import string\n",
        "\n",
        "def generate_random_string(length):\n",
        "    return ''.join(random.choices(string.ascii_uppercase, k=length))\n",
        "\n",
        "def measure_time(func, args):\n",
        "    start = time.time()\n",
        "    func(args)\n",
        "    end = time.time()\n",
        "    return end - start\n",
        "\n",
        "#Generate test cases of increasing sizes\n",
        "sizes = [10, 20, 30, 40, 50, 60, 70, 80, 90, 100]\n",
        "times_a = []\n",
        "times_b = []\n",
        "times_c = []\n",
        "\n",
        "for size in sizes:\n",
        "    A = generate_random_string(size)\n",
        "    B = generate_random_string(size)\n",
        "\n",
        "    times_a.append(measure_time(count_partitions, A))\n",
        "    times_b.append(measure_time(can_partition_same_indices, A, B))\n",
        "    times_c.append(measure_time(count_partition_same_indices, A, B))\n",
        "\n",
        "#Plot results\n",
        "plt.figure(figsize=(10, 6))\n",
        "plt.plot(sizes, times_a, marker='o', label='count_partitions')\n",
        "plt.plot(sizes, times_b, marker='s', label='can_partition_same_indices')\n",
        "plt.plot(sizes, times_c, marker='^', label='count_partition_same_indices')\n",
        "\n",
        "plt.xlabel(\"String Length\")\n",
        "plt.ylabel(\"Execution Time (seconds)\")\n",
        "plt.title(\"Complexity Analysis of Partitioning Algorithms\")\n",
        "plt.legend()\n",
        "plt.grid()\n",
        "plt.show()"
      ],
      "metadata": {
        "id": "kaWM8_LUrW0N",
        "outputId": "1577a0fd-aff1-46c4-8522-bff8a60fcb8a",
        "colab": {
          "base_uri": "https://localhost:8080/",
          "height": 211
        }
      },
      "execution_count": 10,
      "outputs": [
        {
          "output_type": "error",
          "ename": "TypeError",
          "evalue": "measure_time() takes 2 positional arguments but 3 were given",
          "traceback": [
            "\u001b[0;31m---------------------------------------------------------------------------\u001b[0m",
            "\u001b[0;31mTypeError\u001b[0m                                 Traceback (most recent call last)",
            "\u001b[0;32m<ipython-input-10-ceb91f6057ef>\u001b[0m in \u001b[0;36m<cell line: 0>\u001b[0;34m()\u001b[0m\n\u001b[1;32m     24\u001b[0m \u001b[0;34m\u001b[0m\u001b[0m\n\u001b[1;32m     25\u001b[0m     \u001b[0mtimes_a\u001b[0m\u001b[0;34m.\u001b[0m\u001b[0mappend\u001b[0m\u001b[0;34m(\u001b[0m\u001b[0mmeasure_time\u001b[0m\u001b[0;34m(\u001b[0m\u001b[0mcount_partitions\u001b[0m\u001b[0;34m,\u001b[0m \u001b[0mA\u001b[0m\u001b[0;34m)\u001b[0m\u001b[0;34m)\u001b[0m\u001b[0;34m\u001b[0m\u001b[0;34m\u001b[0m\u001b[0m\n\u001b[0;32m---> 26\u001b[0;31m     \u001b[0mtimes_b\u001b[0m\u001b[0;34m.\u001b[0m\u001b[0mappend\u001b[0m\u001b[0;34m(\u001b[0m\u001b[0mmeasure_time\u001b[0m\u001b[0;34m(\u001b[0m\u001b[0mcan_partition_same_indices\u001b[0m\u001b[0;34m,\u001b[0m \u001b[0mA\u001b[0m\u001b[0;34m,\u001b[0m \u001b[0mB\u001b[0m\u001b[0;34m)\u001b[0m\u001b[0;34m)\u001b[0m\u001b[0;34m\u001b[0m\u001b[0;34m\u001b[0m\u001b[0m\n\u001b[0m\u001b[1;32m     27\u001b[0m     \u001b[0mtimes_c\u001b[0m\u001b[0;34m.\u001b[0m\u001b[0mappend\u001b[0m\u001b[0;34m(\u001b[0m\u001b[0mmeasure_time\u001b[0m\u001b[0;34m(\u001b[0m\u001b[0mcount_partition_same_indices\u001b[0m\u001b[0;34m,\u001b[0m \u001b[0mA\u001b[0m\u001b[0;34m,\u001b[0m \u001b[0mB\u001b[0m\u001b[0;34m)\u001b[0m\u001b[0;34m)\u001b[0m\u001b[0;34m\u001b[0m\u001b[0;34m\u001b[0m\u001b[0m\n\u001b[1;32m     28\u001b[0m \u001b[0;34m\u001b[0m\u001b[0m\n",
            "\u001b[0;31mTypeError\u001b[0m: measure_time() takes 2 positional arguments but 3 were given"
          ]
        }
      ]
    }
  ]
}